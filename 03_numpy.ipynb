{
 "cells": [
  {
   "cell_type": "code",
   "execution_count": 1,
   "metadata": {},
   "outputs": [
    {
     "name": "stdout",
     "output_type": "stream",
     "text": [
      "(2, 3)\n",
      "(2, 1)\n",
      "[[10 20 30]\n",
      " [40 50 60]\n",
      " [70 80 90]]\n",
      "[[  10   20   30 1000]\n",
      " [  40   50   60 2000]]\n"
     ]
    }
   ],
   "source": [
    "#numpy concatenate\n",
    "#행렬에 열과 행 추가\n",
    "#머신러닝의 회귀(regression) 코드 구현시 \n",
    "#가중치(weight)와 바이어스(bias)를 별도로 구분하지 않고 하나의 행렬로 취급하기 위한 기능\n",
    "\n",
    "import numpy as np\n",
    "\n",
    "A = np.array([ [10, 20, 30], [40, 50, 60] ])\n",
    "\n",
    "print(A.shape)\n",
    "\n",
    "# A matrix에 행(row) 추가할 행렬. 1행 3열로 reshape\n",
    "# 행을 추가하기 때문에 우선 열을 3열로 만들어야 함\n",
    "row_add = np.array([70, 80, 90]).reshape(1,3) #벡터이기 때문에 행 열 인식시켜야 함\n",
    "\n",
    "#A matrix에 열(column) 추가할 행렬, 2행 1열로 생성\n",
    "#열을 추가하기 때문에 우선 행을 2행으로 만들어야 함\n",
    "column_add = np.array([1000, 2000]).reshape(2, 1)\n",
    "print(column_add.shape)\n",
    "\n",
    "#numpy.concatenate에서 axis = 0 행(row) 기준\n",
    "#A 행렬에 row_add 행렬 추가\n",
    "B = np.concatenate((A, row_add), axis = 0)\n",
    "print(B)\n",
    "\n",
    "#numpy.concatenate에서 axis = 1 열(column) 기준\n",
    "#B행렬에 column_add행렬 추가\n",
    "C = np.concatenate((A, column_add), axis = 1)\n",
    "print(C)"
   ]
  },
  {
   "cell_type": "code",
   "execution_count": null,
   "metadata": {},
   "outputs": [],
   "source": [
    "#seperator로 구분된 파일에서 데이터를 읽기 위한 nupy.loadtxt(...)\n",
    "#콤마(,)로 분리된 데이터 파일을 read하기 위해서는 np.loadtxt(\"파일이름\", seperator=',')\n",
    "#리턴값은 행렬이기 때문에 인덱싱 또는 슬라이싱을 이용하여 데이터를 분리해야함\n",
    "#머신러닝에서 입력데이터와 정답데이터를 분리할 때 사용\n",
    "\n",
    "loaded_data = np.loadtxt('./data-01.csv', delimiter=',', dtype=np.float32)\n",
    "\n",
    "x_data = loaded_data[ :, 0:-1] \n",
    "t=data = loaded_data[ :, [-1]]\n"
   ]
  },
  {
   "cell_type": "code",
   "execution_count": 5,
   "metadata": {},
   "outputs": [
    {
     "name": "stdout",
     "output_type": "stream",
     "text": [
      "[0.51555619 0.93568585 0.28824056]\n",
      "[[0.2174136  0.82981302 0.20531788]]\n",
      "[[0.11911368]\n",
      " [0.86862871]\n",
      " [0.76195344]]\n",
      "[[0.19697156 0.1634376  0.14459348 0.38343367 0.65564982]\n",
      " [0.17213666 0.98798951 0.16816241 0.54744361 0.6208231 ]\n",
      " [0.94034152 0.23127962 0.89216669 0.89755601 0.62661279]\n",
      " [0.77037434 0.18343505 0.68176811 0.27716405 0.15952961]]\n"
     ]
    }
   ],
   "source": [
    "#numpy.random.rand()\n",
    "#0-1 사이의 random number 발생\n",
    "\n",
    "random_number1 = np.random.rand(3) \n",
    "random_number2 = np.random.rand(1, 3) #1행3열 행렬 random\n",
    "random_number3 = np.random.rand(3, 1) #3행1열 행렬 random\n",
    "random_number4 = np.random.rand(4, 5) #4행5열 행렬 random\n",
    "\n",
    "\n",
    "print(random_number1) # [0.46328565 0.5193633  0.87216542]\n",
    "print(random_number2) # [[0.18487201 0.88184083 0.42766694]]\n",
    "print(random_number3)\n",
    "# [[0.22842915]\n",
    "# [0.37265212]\n",
    "# [0.20061097]]\n",
    "print(random_number4)"
   ]
  },
  {
   "cell_type": "code",
   "execution_count": 9,
   "metadata": {},
   "outputs": [
    {
     "name": "stdout",
     "output_type": "stream",
     "text": [
      "20\n",
      "[   7.3890561    54.59815003  403.42879349 2980.95798704]\n",
      "[0.69314718 1.38629436 1.79175947 2.07944154]\n",
      "[2 5 8]\n",
      "[2 1 0]\n",
      "[0 2 2]\n",
      "[0 0 0]\n",
      "[[1. 1. 1.]\n",
      " [1. 1. 1.]\n",
      " [1. 1. 1.]]\n",
      "[[0. 0.]\n",
      " [0. 0.]\n",
      " [0. 0.]]\n"
     ]
    }
   ],
   "source": [
    "x = np.array([2, 4, 6, 8])\n",
    "\n",
    "print(np.sum(x))\n",
    "print(np.exp(x))\n",
    "print(np.log(x))\n",
    "\n",
    "# numpy.max()\n",
    "# numpy.min()\n",
    "# numpy.argmax() - 최대값이 있는 인덱스\n",
    "# numpy.argmin() - 최소값이 있는 인덱스\n",
    "# 이 네 함수는 벡터 이외의 행렬에도 적용 가능\n",
    "x = np.array([ [2, 4, 6], [1, 2, 3], [0, 5, 8]])\n",
    "print(np.max(x, axis = 0)) #[2 5 8]\n",
    "print(np.min(x, axis = 1)) #[2 1 0]\n",
    "print(np.argmax(x, axis = 0)) #[0 2 2]\n",
    "print(np.argmin(x, axis = 1)) #[0 0 0]\n",
    "\n",
    "# numpy.ones / numpy.zeros\n",
    "a = np.ones([3, 3])\n",
    "b = np.zeros([3, 2])\n",
    "print(a)\n",
    "print(b)"
   ]
  },
  {
   "cell_type": "code",
   "execution_count": 12,
   "metadata": {},
   "outputs": [
    {
     "data": {
      "image/png": "[encoded data removed]",
      "text/plain": [
       "<Figure size 432x288 with 1 Axes>"
      ]
     },
     "metadata": {
      "needs_background": "light"
     },
     "output_type": "display_data"
    }
   ],
   "source": [
    "#matplotlib, scatter plot\n",
    "#입력데이터의 분포 확인\n",
    "\n",
    "import matplotlib.pyplot as plt\n",
    "import numpy as np\n",
    "\n",
    "#주피터 노트북을 사용하는 경우 노트북 내부에 그림 표시\n",
    "%matplotlib inline\n",
    "\n",
    "# x data, y data 생성\n",
    "x_data = np.random.rand(100)\n",
    "y_data = np.random.rand(100)\n",
    "\n",
    "plt.title('scatter plot')\n",
    "plt.grid() #그리드 여부\n",
    "plt.scatter(x_data, y_data, color='b', marker='o')\n",
    "plt.show()"
   ]
  },
  {
   "cell_type": "code",
   "execution_count": 13,
   "metadata": {},
   "outputs": [
    {
     "data": {
      "image/png": "[encoded data removed]",
      "text/plain": [
       "<Figure size 432x288 with 1 Axes>"
      ]
     },
     "metadata": {
      "needs_background": "light"
     },
     "output_type": "display_data"
    }
   ],
   "source": [
    "import matplotlib.pyplot as plt\n",
    "import numpy as np\n",
    "\n",
    "#주피터 노트북을 사용하는 경우 노트북 내부에 그림 표시\n",
    "%matplotlib inline\n",
    "\n",
    "x_data = [ x for x in range(-5, 5)]\n",
    "y_data = [ y*y for y in range(-5, 5)]\n",
    "\n",
    "plt.title('line plot')\n",
    "plt.grid()\n",
    "plt.plot(x_data, y_data, color = 'b')\n",
    "plt.show()"
   ]
  },
  {
   "cell_type": "raw",
   "metadata": {},
   "source": [
    "import matplotlib.pyplot as plt\n",
    "import numpy as np\n",
    "\n",
    "#주피터 노트북을 사용하는 경우 노트북 내부에 그림 표시\n",
    "%matplotlib inline\n",
    "\n",
    "x_data = [ x for x in range(-4, 9)]\n",
    "y_data = [ -8, -13, 0, 3, 7, -1, -5, -7, 1, 8, 7, 12, 13]\n",
    "\n",
    "plt.title('line plot')\n",
    "plt.grid()\n",
    "plt.plot(x_data, y_data, color = 'b')\n",
    "plt.show()"
   ]
  }
 ],
 "metadata": {
  "kernelspec": {
   "display_name": "Python 3",
   "language": "python",
   "name": "python3"
  },
  "language_info": {
   "codemirror_mode": {
    "name": "ipython",
    "version": 3
   },
   "file_extension": ".py",
   "mimetype": "text/x-python",
   "name": "python",
   "nbconvert_exporter": "python",
   "pygments_lexer": "ipython3",
   "version": "3.7.6"
  }
 },
 "nbformat": 4,
 "nbformat_minor": 4
}
