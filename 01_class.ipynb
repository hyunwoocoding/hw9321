{
 "cells": [
  {
   "cell_type": "markdown",
   "metadata": {},
   "source": [
    "# class 클래스 이름:\n",
    "#     def __init__(self, 인수, ...):  # 생성자\n",
    "#     def  메서드이름(self, 인수, ...) # 메서드\n",
    "\n",
    "\n",
    "## 파이썬 클래스에서는 __init__ 메서드가 생성자(constructor) 역할을 수행하여,\n",
    "## 인스턴스가 만들어 질 때 한 번만 호출됨\n",
    "## 파이썬에서는 클래스 메서드의 첫번째 인수로 '자신의 인스턴스'를 나타내는 self를\n",
    "## 반드시 기술해야 함\n",
    "\n",
    "## 기본적으로 파이썬에서는 메서도와 속성 모두 public"
   ]
  },
  {
   "cell_type": "code",
   "execution_count": 3,
   "metadata": {},
   "outputs": [
    {
     "name": "stdout",
     "output_type": "stream",
     "text": [
      "PARK is initialized\n",
      "PARK is working in ABCDEF\n",
      "PARK is sleeping\n",
      "current person object is  PARK\n"
     ]
    }
   ],
   "source": [
    "class Person:\n",
    "    def __init__(self, name):\n",
    "        self.name = name\n",
    "        print(self.name + \" is initialized\")\n",
    "    \n",
    "    def work(self, company):\n",
    "        print(self.name + \" is working in \" + company)\n",
    "    \n",
    "    def sleep(self):\n",
    "        print(self.name + \" is sleeping\")\n",
    "        \n",
    "# Person instant 생성\n",
    "\n",
    "obj = Person(\"PARK\")\n",
    "\n",
    "# method call\n",
    "obj.work(\"ABCDEF\")\n",
    "obj.sleep()\n",
    "\n",
    "# 속성에 직접 접근, 기본적으로 파이썬에서는 모두 public\n",
    "print(\"current person object is \", obj.name)"
   ]
  },
  {
   "cell_type": "markdown",
   "metadata": {},
   "source": [
    "## 클래스 변수(class variable)는 해당 클래스로 생성된 모든 인스턴스가 공통으로 사용하는 변수임. -> 클래스 변수는 클래스 내외부에서 \"클래스명.클래스 변수명\"으로 접근 할 수 있음\n",
    "\n",
    "## 클래스 메서드(class method)는 메서드 앞에 @classmethod를 반드시 표시하여 해당 메서드가 클래스 메서드임을 표시함 -> 클래스 메서드임을 표시함 -> 클래스 메서드는 객체 인스턴스를 읳미하는 self 대신 cls라는 클래스를 의미하는 파라미터를 인수로 전달받음"
   ]
  },
  {
   "cell_type": "code",
   "execution_count": 4,
   "metadata": {},
   "outputs": [
    {
     "name": "stdout",
     "output_type": "stream",
     "text": [
      "PARK is initialized\n",
      "KIM is initialized\n",
      "PARK is working in ABCDEF\n",
      "PARK is sleeping\n",
      "current person object is  PARK ,  KIM\n",
      "Person count ==  2\n",
      "2\n"
     ]
    }
   ],
   "source": [
    "class Person:\n",
    "    \n",
    "    count = 0 # class variable\n",
    "    \n",
    "    def __init__(self, name):\n",
    "        self.name = name\n",
    "        Person.count += 1 # class 변수 count 증가\n",
    "        print(self.name + \" is initialized\")\n",
    "    \n",
    "    def work(self, company):\n",
    "        print(self.name + \" is working in \" + company)\n",
    "    \n",
    "    def sleep(self):\n",
    "        print(self.name + \" is sleeping\")\n",
    "    \n",
    "    @classmethod\n",
    "    def getCount(cls): #class method\n",
    "        return cls.count\n",
    "        \n",
    "# Person instant 2개 생성\n",
    "\n",
    "obj1 = Person(\"PARK\")\n",
    "obj2 = Person(\"KIM\")\n",
    "\n",
    "\n",
    "# method call\n",
    "obj.work(\"ABCDEF\")\n",
    "obj.sleep()\n",
    "\n",
    "# 속성에 직접 접근, 기본적으로 파이썬에서는 모두 public\n",
    "\n",
    "print(\"current person object is \", obj1.name, \", \", obj2.name)\n",
    "\n",
    "# class method 호출\n",
    "print(\"Person count == \", Person.getCount())\n",
    "\n",
    "# class variable direct access\n",
    "print(Person.count)"
   ]
  },
  {
   "cell_type": "markdown",
   "metadata": {},
   "source": [
    "## 파이썬은 기본적으로 모든 멤버가 public이기 때문에, 외부에서 직접 접근 가능함\n",
    "\n",
    "## 멤버변수(variable), 멤버메서드(method)를 __멤버변수, __멤버메서드 형태로 선언한다면 private으로 설정 할 수 있음 "
   ]
  },
  {
   "cell_type": "code",
   "execution_count": 5,
   "metadata": {},
   "outputs": [
    {
     "ename": "NameError",
     "evalue": "name 'PrivateMemverTest' is not defined",
     "output_type": "error",
     "traceback": [
      "\u001b[1;31m---------------------------------------------------------------------------\u001b[0m",
      "\u001b[1;31mNameError\u001b[0m                                 Traceback (most recent call last)",
      "\u001b[1;32m<ipython-input-5-0b79d52ddb49>\u001b[0m in \u001b[0;36m<module>\u001b[1;34m\u001b[0m\n\u001b[0;32m     14\u001b[0m \u001b[1;33m\u001b[0m\u001b[0m\n\u001b[0;32m     15\u001b[0m \u001b[1;31m# 인스턴스 생성\u001b[0m\u001b[1;33m\u001b[0m\u001b[1;33m\u001b[0m\u001b[1;33m\u001b[0m\u001b[0m\n\u001b[1;32m---> 16\u001b[1;33m \u001b[0mobj\u001b[0m \u001b[1;33m=\u001b[0m \u001b[0mPrivateMemverTest\u001b[0m\u001b[1;33m(\u001b[0m\u001b[1;34m\"PARK\"\u001b[0m\u001b[1;33m,\u001b[0m \u001b[1;34m\"KIM\"\u001b[0m\u001b[1;33m)\u001b[0m\u001b[1;33m\u001b[0m\u001b[1;33m\u001b[0m\u001b[0m\n\u001b[0m\u001b[0;32m     17\u001b[0m \u001b[1;33m\u001b[0m\u001b[0m\n\u001b[0;32m     18\u001b[0m \u001b[0mprint\u001b[0m\u001b[1;33m(\u001b[0m\u001b[0mobj\u001b[0m\u001b[1;33m.\u001b[0m\u001b[0mname1\u001b[0m\u001b[1;33m)\u001b[0m\u001b[1;33m\u001b[0m\u001b[1;33m\u001b[0m\u001b[0m\n",
      "\u001b[1;31mNameError\u001b[0m: name 'PrivateMemverTest' is not defined"
     ]
    }
   ],
   "source": [
    "class PrivateMemberTest:\n",
    "    \n",
    "    def __init__(self, name1, name2):\n",
    "        self.name1 = name1\n",
    "        self.__name2 = name2 #private member variable\n",
    "        print(\"initialized with \" + name1 + \", \" + name2)\n",
    "    \n",
    "    def getNames(self):\n",
    "        self.__printNames()\n",
    "        return self.name1,self.__name2 # 이건 private 함수가 아니라 public 사용 가능\n",
    "    \n",
    "    def __printNames(self):  #private member method\n",
    "        print(self.name1, self.__name2)\n",
    "\n",
    "# 인스턴스 생성\n",
    "obj = PrivateMemverTest(\"PARK\", \"KIM\")\n",
    "\n",
    "print(obj.name1)\n",
    "print(obj.getNames())\n",
    "print(obj.__printNames()) #error 발생\n",
    "print(obj.__name2) #error 발생"
   ]
  },
  {
   "cell_type": "markdown",
   "metadata": {},
   "source": [
    "## 외부함수와 클래스 method name이 같은 경우\n",
    "\n",
    "## C++, JAVA 언어의 this처럼 self를 통해 method 호출\n",
    "\n",
    "## self를 붙이지 않으면 동일한 이름의 외부 함수 호출됨"
   ]
  },
  {
   "cell_type": "code",
   "execution_count": 6,
   "metadata": {},
   "outputs": [
    {
     "name": "stdout",
     "output_type": "stream",
     "text": [
      " [def] LEE\n",
      "[SameTest] LEE\n",
      " [def] KIM\n",
      "[SameTest] KIM\n"
     ]
    }
   ],
   "source": [
    "def print_name(name):\n",
    "    print(\" [def]\", name)\n",
    "\n",
    "class SameTest:\n",
    "    def __init__(self):\n",
    "        # 아무것도 않하기 때문에 pass\n",
    "        pass\n",
    "    \n",
    "    # 외부 함수와 동일한 이름으로 method 정의\n",
    "    def print_name(self, name):\n",
    "        print(\"[SameTest]\", name)\n",
    "    \n",
    "    def call_test(self):\n",
    "        \n",
    "        #외부 함수 호풀\n",
    "        print_name(\"KIM\")\n",
    "        \n",
    "        #클래스 내부 method 호출\n",
    "        self.print_name(\"KIM\")\n",
    "        \n",
    "# create SameTest object\n",
    "obj = SameTest()\n",
    "\n",
    "# call function print_name\n",
    "print_name(\"LEE\")\n",
    "\n",
    "# cal method print_name\n",
    "obj.print_name(\"LEE\")\n",
    "\n",
    "# call method call_test\n",
    "obj.call_test()\n"
   ]
  }
 ],
 "metadata": {
  "kernelspec": {
   "display_name": "Python 3",
   "language": "python",
   "name": "python3"
  },
  "language_info": {
   "codemirror_mode": {
    "name": "ipython",
    "version": 3
   },
   "file_extension": ".py",
   "mimetype": "text/x-python",
   "name": "python",
   "nbconvert_exporter": "python",
   "pygments_lexer": "ipython3",
   "version": "3.7.6"
  }
 },
 "nbformat": 4,
 "nbformat_minor": 4
}
