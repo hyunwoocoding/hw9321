{
 "cells": [
  {
   "cell_type": "markdown",
   "metadata": {},
   "source": [
    "#code는 python과 같은 코딩 언어 markdown은 html\n",
    "#텐서플로\n",
    "텐서플로는 구글에서 만든 딥로닝 프로그램을 쉽게 구현할 수 있도록 다양한 기능을 제공해주는 라이브러리입니다. 텐서플로는 C++로 구현되어 있으며 다양한 언어를 지원하지만 파이썬을 최우선으로 지원하는 라이브러리 입니다.\n"
   ]
  },
  {
   "cell_type": "code",
   "execution_count": 3,
   "metadata": {},
   "outputs": [],
   "source": [
    "#import tensorflow as tf #텐서플로우는 별명을 주고 사용해야 합니다.\n",
    "# pip install tensorflow\n",
    "\n",
    "import tensorflow.compat.v1 as tf #텐서플로 버전1을 사용하겠다; 현재는 2버전까지 나와있음\n",
    "tf.disable_v2_behavior() #텐서플로 버전2를 사용하지 않겠다."
   ]
  },
  {
   "cell_type": "markdown",
   "metadata": {},
   "source": [
    "#tensorflow 상수"
   ]
  },
  {
   "cell_type": "code",
   "execution_count": 7,
   "metadata": {},
   "outputs": [
    {
     "name": "stdout",
     "output_type": "stream",
     "text": [
      "Tensor(\"Add_2:0\", shape=(), dtype=int32)\n",
      "300\n"
     ]
    }
   ],
   "source": [
    "#constant() : tensorflow에서 사용할 상수를 정의하는 함수\n",
    "a = tf.constant(100)\n",
    "b = tf.constant(200)\n",
    "c = tf.add(a,b) # c = a + b\n",
    "print(c) #Tensor(\"Add:0\", shape=(), dtype=int32) \n",
    "        # tensorflow는 반드시 세션이라는 작업 영역을 만든 후 상수, 변수, 수식을 대입하고 연산해야 합니다.\n",
    "sess = tf.Session() # 텐서 객체를 만들어서 이름을 정해줌\n",
    "print(sess.run(c)) # run(): tensorflow에서 연산을 실행하는 함수\n",
    "# versrion2에서는 session영역이 필요없다\n"
   ]
  },
  {
   "cell_type": "markdown",
   "metadata": {},
   "source": [
    "#tensorflow 변수"
   ]
  },
  {
   "cell_type": "code",
   "execution_count": 9,
   "metadata": {},
   "outputs": [
    {
     "name": "stdout",
     "output_type": "stream",
     "text": [
      "50\n",
      "75\n"
     ]
    }
   ],
   "source": [
    "# variable() : tensorflow에서 사용할 변수를 정의하는 함수입니다.\n",
    "a = tf.Variable(10) # tensorflow에서 사용할 변수를 정의하고 값을 넣어줍니다.\n",
    "b = tf.Variable(5)\n",
    "c = tf.multiply(a, b) # c = a * b\n",
    "sess = tf.Session()\n",
    "\n",
    "#global_variables_initializer() : tensorflow에서 사용할 변수를 초기화하는 함수입니다.\n",
    "#Variable() 함수를 사용해서 생성한 tensorflow 변수는 사용하기 전에 반드시 초기화를 해야하고, \n",
    "# 저장된 값이 변경되더라도 다시 초기화를 시켜야 합니다.\n",
    "\n",
    "init = tf.global_variables_initializer()\n",
    "sess.run(init) \n",
    "print(sess.run(c)) #50\n",
    "#변수는 session구간을 만든다고 무조건 사용할 수 있는 것이 아니라, 세션 구간을 만들고\n",
    "#연산하기 전에 초기화를 시켜주고 다시 실행해주어야 한다.\n",
    "\n",
    "a = tf.Variable(15) #기존에 사용하던 변수의 값을 변경합니다.\n",
    "c = a * b\n",
    "#init = tf.global_variables_initializer()\n",
    "#sess.run(init) - 초기화 첫번째 방법\n",
    "sess.run(tf.global_variables_initializer()) # - 초기화 두번째 방법\n",
    "\n",
    "print(sess.run(c))"
   ]
  },
  {
   "cell_type": "markdown",
   "metadata": {},
   "source": [
    "#tensorflow 기본함수"
   ]
  },
  {
   "cell_type": "code",
   "execution_count": 14,
   "metadata": {},
   "outputs": [
    {
     "name": "stdout",
     "output_type": "stream",
     "text": [
      "tf.add(a,b) : 20\n",
      "tf.subtract(a,b) : 10\n",
      "tf.multiply(a,b) : 75\n",
      "tf.truediv(a,b) : 3.0\n",
      "tf.mod(a,b) : 0\n"
     ]
    }
   ],
   "source": [
    "'''\n",
    "result = tf.add(a,b) #덧셈\n",
    "sess.run(tf.global_variables_initializer())\n",
    "print('tf.add(a,b) : {}'.format(sess.run(result)))\n",
    "'''\n",
    "\n",
    "num1 = tf.constant(17.0)\n",
    "num2 = tf.constant(5.0)\n",
    "\n",
    "result = tf.add(a,b) #덧셈\n",
    "print('tf.add(a,b) : {}'.format(sess.run(result)))\n",
    "\n",
    "result = tf.subtract(a,b) #뺄셈\n",
    "print('tf.subtract(a,b) : {}'.format(sess.run(result)))\n",
    "\n",
    "result = tf.multiply(a,b) #곱셈\n",
    "print('tf.multiply(a,b) : {}'.format(sess.run(result)))\n",
    "\n",
    "result = tf.truediv(a,b) #나눗셈\n",
    "print('tf.truediv(a,b) : {}'.format(sess.run(result)))\n",
    "\n",
    "result = tf.mod(a,b) #나머지\n",
    "print('tf.mod(a,b) : {}'.format(sess.run(result)))\n"
   ]
  },
  {
   "cell_type": "code",
   "execution_count": null,
   "metadata": {},
   "outputs": [],
   "source": [
    "#tensorflow 수식함수"
   ]
  },
  {
   "cell_type": "code",
   "execution_count": 18,
   "metadata": {},
   "outputs": [
    {
     "name": "stdout",
     "output_type": "stream",
     "text": [
      "tf.abs(-num1) : 17.0\n",
      "tf.negative(num1) : -17.0\n",
      "tf.square(num2) : 25.0\n",
      "tf.sqrt(num2) : 2.2360680103302\n",
      "tf.pow(num2, 2) : 25.0\n",
      "tf.maximum(num1, num2) : 17.0\n",
      "tf.minimum(num1, num2) : 5.0\n",
      "tf.exp(num2) : 148.4131622314453\n",
      "tf.log(num2) : 1.6094379425048828\n",
      "tf.sin(num2) : -0.9589242935180664\n",
      "tf.cos(num2) : 0.28366219997406006\n"
     ]
    }
   ],
   "source": [
    "result = tf.abs(-num1) #절대값\n",
    "print('tf.abs(-num1) : {}'.format(sess.run(result)))\n",
    "\n",
    "result = tf.negative(num1) #숫자를 음수로 변경하는 함수\n",
    "print('tf.negative(num1) : {}'.format(sess.run(result)))\n",
    "\n",
    "result = tf.square(num2) #제곱\n",
    "print('tf.square(num2) : {}'.format(sess.run(result)))\n",
    "\n",
    "result = tf.sqrt(num2) #제곱근\n",
    "print('tf.sqrt(num2) : {}'.format(sess.run(result)))\n",
    "\n",
    "result = tf.pow(num2, 2) #거듭제곱, x의 y승\n",
    "print('tf.pow(num2, 2) : {}'.format(sess.run(result)))\n",
    "\n",
    "result = tf.maximum(num1, num2) #최대값\n",
    "print('tf.maximum(num1, num2) : {}'.format(sess.run(result)))\n",
    "\n",
    "result = tf.minimum(num1, num2) #최소값\n",
    "print('tf.minimum(num1, num2) : {}'.format(sess.run(result)))\n",
    "\n",
    "result = tf.exp(num2) #지수\n",
    "print('tf.exp(num2) : {}'.format(sess.run(result)))\n",
    "\n",
    "result = tf.log(num2) #로그\n",
    "print('tf.log(num2) : {}'.format(sess.run(result)))\n",
    "\n",
    "result = tf.sin(num2) #사인\n",
    "print('tf.sin(num2) : {}'.format(sess.run(result)))\n",
    "\n",
    "result = tf.cos(num2) #코사인\n",
    "print('tf.cos(num2) : {}'.format(sess.run(result)))\n",
    "\n",
    "#tensorflow는 수식 종류가 많기 때문에 따로 알아보길"
   ]
  },
  {
   "cell_type": "markdown",
   "metadata": {},
   "source": [
    "#tensorflow placeholder"
   ]
  },
  {
   "cell_type": "markdown",
   "metadata": {},
   "source": [
    "placeholder는 tensorflow에서 사용하는 여러 학습 데이터를 저장하는 변수입니다."
   ]
  },
  {
   "cell_type": "markdown",
   "metadata": {},
   "source": [
    "placeholder(dtype, shape, name)\n",
    "dtype : placeholder에 저장되는 자료형\n",
    "shape : 데이터의 차원(생략 가능)\n",
    "name : placeholder의 이름(생략 가능)"
   ]
  },
  {
   "cell_type": "code",
   "execution_count": 22,
   "metadata": {},
   "outputs": [
    {
     "name": "stdout",
     "output_type": "stream",
     "text": [
      "[6. 6. 6. 6. 6.]\n"
     ]
    }
   ],
   "source": [
    "#tensorflow의 placeholder에 저장할 데이터를 선언합니다.\n",
    "xData = [1,2,3,4,5]\n",
    "yData = [5,4,3,2,1]\n",
    "\n",
    "#placeholder를 선언합니다.\n",
    "X = tf.placeholder(dtype = tf.float32) # xData를 기억할 placeholder\n",
    "Y = tf.placeholder(dtype = tf.float32) # yData를 기억할 placeholder\n",
    "\n",
    "#placeholder를 사용하는 수식을 선언합니다.\n",
    "Z = X + Y\n",
    "\n",
    "sess = tf.Session()\n",
    "\n",
    "#수식에 사용할 데이터를 placeholder에 대입하고 실행합니다.\n",
    "#Z에 정의한 수식을 실행합니다. -> Z에는 데이터가 채워져 있지 않기 때문에 \n",
    "#반드시 'feed_dict'라는 이름의 딕셔너리 타입을 사용해서 데이터를 채워줍니다.\n",
    "#예) feed_dict 딕셔너리 구조 : { placeholder : data, placeholder : data ...}\n",
    "result = sess.run(Z, feed_dict = {X : xData, Y : yData})\n",
    "#리스트의 길이가 다르면 짧은 쪽이 반복된다\n",
    "print(result)\n"
   ]
  },
  {
   "cell_type": "code",
   "execution_count": 25,
   "metadata": {},
   "outputs": [
    {
     "name": "stdout",
     "output_type": "stream",
     "text": [
      "[6, 6, 6, 6, 6]\n",
      "[6, 6, 6, 6, 6]\n"
     ]
    }
   ],
   "source": [
    "result = [] #빈 리스트를 선언합니다.\n",
    "#print(result)\n",
    "\n",
    "input1 = [1,2,3,4,5]\n",
    "input2 = [5,4,3,2,1]\n",
    "\n",
    "for i in range(5): #0-4\n",
    "    result.append(input1[i] + input2[i])\n",
    "print(result)\n",
    "\n",
    "result = [0 for i in range(len(input1))]\n",
    "#print(result)\n",
    "\n",
    "for i in range(len(input1)):\n",
    "    result[i] = input1[i] + input2[i]\n",
    "print(result)\n",
    "\n"
   ]
  }
 ],
 "metadata": {
  "kernelspec": {
   "display_name": "Python 3",
   "language": "python",
   "name": "python3"
  },
  "language_info": {
   "codemirror_mode": {
    "name": "ipython",
    "version": 3
   },
   "file_extension": ".py",
   "mimetype": "text/x-python",
   "name": "python",
   "nbconvert_exporter": "python",
   "pygments_lexer": "ipython3",
   "version": "3.7.6"
  }
 },
 "nbformat": 4,
 "nbformat_minor": 2
}
