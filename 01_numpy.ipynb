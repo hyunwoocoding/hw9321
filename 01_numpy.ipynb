{
 "cells": [
  {
   "cell_type": "code",
   "execution_count": 4,
   "metadata": {},
   "outputs": [
    {
     "name": "stdout",
     "output_type": "stream",
     "text": [
      "[[1, 0], [0, 1], [1, 1], [1, 1]]\n",
      "[[2 1]\n",
      " [1 2]]\n"
     ]
    }
   ],
   "source": [
    "# from numpy import * 라는 뜻은 numpy의 모든 api를 불러오겠다는 뜻\n",
    "#리스트로 행렬 표현\n",
    "A = [ [1, 0], [0, 1]]\n",
    "B = [ [1, 1], [1, 1]]\n",
    "\n",
    "print(A + B) #행렬 연산이 아닌 리스트 연산 # [[1, 0], [0, 1], [1, 1], [1, 1]]\n",
    "#머신러닝에서는 숫자, 사람, 동물 등의 인식을 하기 위해서는 \n",
    "#이미지(image)데이터를 행렬(matrix)로 변환하는 것이 중요함\n",
    "\n",
    "#numpy matrix\n",
    "import numpy as np\n",
    "\n",
    "A = np.array([ [1, 0], [0, 1]])\n",
    "B = np.array([ [1, 1], [1, 1]])\n",
    "print(A+B) \n",
    "#[[2 1]\n",
    "# [1 2]]\n"
   ]
  },
  {
   "cell_type": "code",
   "execution_count": 7,
   "metadata": {},
   "outputs": [
    {
     "name": "stdout",
     "output_type": "stream",
     "text": [
      "A ==  [1 2 3] , B == [4 5 6]\n",
      "A.shape == (3,) , B.shape == (3,)\n",
      "A.ndim == 1 , B.ndia == 1\n",
      "A + B ==  [5 7 9]\n",
      "A - B ==  [-3 -3 -3]\n",
      "A * B ==  [ 4 10 18]\n",
      "A / B ==  [0.25 0.4  0.5 ]\n"
     ]
    }
   ],
   "source": [
    "#백터 생성\n",
    "#vector는 np.array([...])를 사용하여 생성\n",
    "#머신러닝 코드 구현 시, 연산을 위해서 \n",
    "#벡터, 행렬 등의 형상(shape), 차원(dimension)을 확인하는 것이 필요\n",
    "\n",
    "A = np.array([1, 2, 3])\n",
    "B = np.array([4, 5, 6])\n",
    "\n",
    "#vector A, B 출력\n",
    "print(\"A == \", A, \", B ==\", B)\n",
    "\n",
    "#vector A, B  형상 출력 -> shape\n",
    "print(\"A.shape ==\", A.shape, \", B.shape ==\", B.shape)\n",
    "\n",
    "#vector A, B 차원 출력 -> ndim\n",
    "print(\"A.ndim ==\", A.ndim, \", B.ndia ==\", B.ndim)\n",
    "\n",
    "#vector 산술 연산\n",
    "print(\"A + B == \", A+B)\n",
    "print(\"A - B == \", A-B)\n",
    "print(\"A * B == \", A*B)\n",
    "print(\"A / B == \", A/B)"
   ]
  },
  {
   "cell_type": "code",
   "execution_count": 8,
   "metadata": {},
   "outputs": [
    {
     "name": "stdout",
     "output_type": "stream",
     "text": [
      "A.shape == (2, 3) , B.shape == (2, 3)\n",
      "A.ndim == 2 , B.ndim == 2\n",
      "C.shape == (3,)\n",
      "C.shape == (1, 3)\n"
     ]
    }
   ],
   "source": [
    "#행렬(matrix) 생성\n",
    "\n",
    "A = np.array([ [1,2,3], [4,5,6]])\n",
    "B = np.array([ [-1,-2,-3], [-4,-5,-6] ])\n",
    "\n",
    "#matrix A,B 형상 출력 -> shape\n",
    "print(\"A.shape ==\", A.shape, \", B.shape ==\", B.shape)\n",
    "\n",
    "#matrix A, B 차원 출력 -> ndim\n",
    "print(\"A.ndim ==\", A.ndim, \", B.ndim ==\", B.ndim)\n",
    "\n",
    "#형변환\n",
    "C = np.array([1, 2, 3])\n",
    "print(\"C.shape ==\", C.shape)\n",
    "C = C.reshape(1, 3)\n",
    "print(\"C.shape ==\", C.shape)"
   ]
  }
 ],
 "metadata": {
  "kernelspec": {
   "display_name": "Python 3",
   "language": "python",
   "name": "python3"
  },
  "language_info": {
   "codemirror_mode": {
    "name": "ipython",
    "version": 3
   },
   "file_extension": ".py",
   "mimetype": "text/x-python",
   "name": "python",
   "nbconvert_exporter": "python",
   "pygments_lexer": "ipython3",
   "version": "3.7.6"
  }
 },
 "nbformat": 4,
 "nbformat_minor": 4
}
