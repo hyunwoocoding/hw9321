{
 "cells": [
  {
   "cell_type": "code",
   "execution_count": 8,
   "metadata": {},
   "outputs": [
    {
     "name": "stdout",
     "output_type": "stream",
     "text": [
      "0 4586773500.0 [10386.485] [2062.7234]\n",
      "500 8686782.0 [25537.818] [1948.7177]\n",
      "1000 8633810.0 [25627.55] [1504.3688]\n",
      "1500 8632681.0 [25640.627] [1439.6201]\n",
      "2000 8632660.0 [25642.533] [1430.1809]\n",
      "2500 8632649.0 [25642.807] [1428.8192]\n",
      "3000 8632650.0 [25642.844] [1428.6328]\n",
      "3500 8632657.0 [25642.848] [1428.6133]\n",
      "4000 8632657.0 [25642.848] [1428.6133]\n",
      "4500 8632657.0 [25642.848] [1428.6133]\n",
      "5000 8632657.0 [25642.848] [1428.6133]\n",
      "[206571.39]\n"
     ]
    }
   ],
   "source": [
    "#선형 회귀 인공지능 구현하기\n",
    "\n",
    "import tensorflow.compat.v1 as tf #텐서플로 버전1을 사용하겠다; 현재는 2버전까지 나와있음\n",
    "tf.disable_v2_behavior()\n",
    "\n",
    "xData = [1, 2, 3, 4, 5, 6, 7]\n",
    "yData = [25000, 55000, 75000, 110000, 128000, 155000, 180000]\n",
    "W = tf.Variable(tf.random_uniform([1], -100, 100)) # w = weight #-100부터 100사이의 하나의 랜덤값을 만든다\n",
    "b = tf.Variable(tf.random_uniform([1], -100, 100)) # b = bias\n",
    "X = tf.placeholder(tf.float32)\n",
    "Y = tf.placeholder(tf.float32)\n",
    "H = W*X + b\n",
    "\n",
    "cost = tf.reduce_mean(tf.square(H - Y)) # 예측값에서 실제값을 빼서 제곱 -> 그리고 평균\n",
    "a = tf.Variable(0.01) #경사하강 스텝 크기\n",
    "optimizer = tf.train.GradientDescentOptimizer(a)\n",
    "\n",
    "train = optimizer.minimize(cost)\n",
    "init = tf.global_variables_initializer()\n",
    "sess = tf.Session()\n",
    "sess.run(init)\n",
    "\n",
    "for i in range(5001):\n",
    "    sess.run(train, feed_dict = {X : xData, Y : yData})\n",
    "    if i % 500 == 0:\n",
    "        print(i, sess.run(cost, feed_dict={X : xData, Y : yData}), sess.run(W), sess.run(b))\n",
    "print(sess.run(H, feed_dict={X: [8]}))"
   ]
  },
  {
   "cell_type": "code",
   "execution_count": 9,
   "metadata": {},
   "outputs": [
    {
     "name": "stdout",
     "output_type": "stream",
     "text": [
      "표준편차를 계산할 데이터의 개수를 입력하세요. : 5\n",
      "1번째 데이터 : 1\n",
      "2번째 데이터 : 2\n",
      "3번째 데이터 : 3\n",
      "4번째 데이터 : 4\n",
      "5번째 데이터 : 5\n",
      "[1, 2, 3, 4, 5]\n",
      "[1, 2, 3, 4, 5]\n",
      "3.0\n",
      "0.816496580927726\n"
     ]
    }
   ],
   "source": [
    "import tensorflow.compat.v1 as tf #텐서플로 버전1을 사용하겠다; 현재는 2버전까지 나와있음\n",
    "tf.disable_v2_behavior() #텐서플로 버전2를 사용하지 않겠다.\n",
    "\n",
    "##표준편차를 계산할 데이터의 개수를 입력하고 입력받은 개수만큼 데이터를 입력 받습니다.\n",
    "n = int(input('표준편차를 계산할 데이터의 개수를 입력하세요. : '))\n",
    "score = [0 for i in range(n)] #리스트가 n의 값만큼 개수 생성\n",
    "\n",
    "for i in range(n):\n",
    "    data = int(input(\"{}번째 데이터 : \".format(i+1)))\n",
    "    score[i] = data\n",
    "print(score)\n",
    "    \n",
    "\n",
    "#입력받은 데이터를 오름차순 정렬합니다. -> 0번째 데이터가 최소값, 마지막 데이터가 최대값\n",
    "for i in range(len(score)-1):\n",
    "    for j in range(i+1, len(score)):\n",
    "        if score[i] > score[j]:\n",
    "            score[i], score[j] = score[j], score[i]\n",
    "print(score)\n",
    "\n",
    "#최대값, 최소값을 제외한 나머지 데이터의 평균을 계산 -> 분산\n",
    "#첫번째 방법\n",
    "total = 0\n",
    "for i in range(1, len(score)-1):\n",
    "    total += score[i]\n",
    "mean = total / (n-2)\n",
    "print(mean)\n",
    "\n",
    "#두번째 방법\n",
    "import math\n",
    "total = 0.0\n",
    "for i in range(1, len(score)-1):\n",
    "    total += (score[i] - mean)**2 # **은 제곱\n",
    "var = total / (n-2)\n",
    "\n",
    "#분산의 루트를 씌여주면 표준편차가 됩니다.\n",
    "std = math.sqrt(var)\n",
    "print(std)\n"
   ]
  }
 ],
 "metadata": {
  "kernelspec": {
   "display_name": "Python 3",
   "language": "python",
   "name": "python3"
  },
  "language_info": {
   "codemirror_mode": {
    "name": "ipython",
    "version": 3
   },
   "file_extension": ".py",
   "mimetype": "text/x-python",
   "name": "python",
   "nbconvert_exporter": "python",
   "pygments_lexer": "ipython3",
   "version": "3.7.6"
  }
 },
 "nbformat": 4,
 "nbformat_minor": 2
}
