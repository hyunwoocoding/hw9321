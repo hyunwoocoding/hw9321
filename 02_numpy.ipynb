{
 "cells": [
  {
   "cell_type": "code",
   "execution_count": 2,
   "metadata": {},
   "outputs": [
    {
     "name": "stdout",
     "output_type": "stream",
     "text": [
      "[[5 7]\n",
      " [7 9]]\n"
     ]
    }
   ],
   "source": [
    "# 행렬 곱(dot product)\n",
    "# np.dot(A,B)\n",
    "# 만약 행과 열이 다르면 reshape 또는 전치행렬(transpose)를 사용하여 형 변환 후 실행\n",
    "import numpy as np\n",
    "\n",
    "#but, numpy에서는 크기가 다른 두 행렬 간에도 사칙연산(행렬 곱 제외)을 할 수 있는데\n",
    "#이를 브로드캐스트(broadcast)라고 지칭함\n",
    "#차원이 작은 쪽이 큰 쪽의 행 단위로 반복적으로 크기를 맞춘 후에 계산\n",
    "A = np.array([[1, 2], [3, 4]])\n",
    "B = np.array([4, 5])\n",
    "\n",
    "print(A+B)\n",
    "#[[5 7]\n",
    "# [7 9]]"
   ]
  },
  {
   "cell_type": "code",
   "execution_count": 5,
   "metadata": {},
   "outputs": [
    {
     "name": "stdout",
     "output_type": "stream",
     "text": [
      "[[1 3 5]\n",
      " [2 4 6]]\n",
      "[[1]\n",
      " [2]\n",
      " [3]\n",
      " [4]\n",
      " [5]]\n"
     ]
    }
   ],
   "source": [
    "#전치행렬\n",
    "\n",
    "C = np.array([[1, 2], [3, 4], [5, 6]]) # 3x2행렬\n",
    "D = C.T\n",
    "print(D)\n",
    "#[[1 3 5]\n",
    "# [2 4 6]]\n",
    "\n",
    "#벡터는 적용되지 않음, 벡터는 1차원이기 때문에 행과 열을 구분할 수 없음\n",
    "#벡터의 경우 reshape으로 1행 5열이라고 규정해주고 전치해준다\n",
    "E = np.array([1,2,3,4,5])\n",
    "F = E.reshape(1, 5)\n",
    "G = F.T\n",
    "print(G)\n",
    "#[[1]\n",
    "# [2]\n",
    "# [3]\n",
    "# [4]\n",
    "# [5]]"
   ]
  },
  {
   "cell_type": "code",
   "execution_count": null,
   "metadata": {},
   "outputs": [],
   "source": []
  },
  {
   "cell_type": "code",
   "execution_count": 9,
   "metadata": {},
   "outputs": [
    {
     "name": "stdout",
     "output_type": "stream",
     "text": [
      "A.shape == (3, 2)\n",
      "[[1 2]\n",
      " [3 4]\n",
      " [5 6]]\n",
      "1\n",
      "6\n",
      "[[2]\n",
      " [4]]\n",
      "[1 3 5]\n",
      "[[1 2]\n",
      " [3 4]\n",
      " [5 6]]\n"
     ]
    }
   ],
   "source": [
    "#행렬 indexing / slicing\n",
    "\n",
    "A = np.array([1, 2, 3, 4, 5, 6]).reshape(3,2)\n",
    "\n",
    "print(\"A.shape ==\", A.shape)\n",
    "print(A)\n",
    "#A.shape == (3, 2)\n",
    "#[[1 2]\n",
    "# [3 4]\n",
    "# [5 6]]\n",
    " \n",
    "print(A[0,0]) #1행1열 1\n",
    "print(A[2,1]) #3행2열 6\n",
    "print(A[0:-1, 1:2]) # [[20] [40]]\n",
    "print(A[:, 0]) # [10 30 50]\n",
    "print(A[:, :])\n",
    "#[[1 2]\n",
    "# [3 4]\n",
    "# [5 6]]\n"
   ]
  },
  {
   "cell_type": "code",
   "execution_count": 14,
   "metadata": {},
   "outputs": [
    {
     "name": "stdout",
     "output_type": "stream",
     "text": [
      "[[10 20 30 40]\n",
      " [50 60 70 80]] \n",
      "\n",
      "A.shape == (2, 4) \n",
      "\n",
      "current value ==>  10\n",
      "current value ==>  20\n",
      "current value ==>  30\n",
      "current value ==>  40\n",
      "current value ==>  50\n",
      "current value ==>  60\n",
      "current value ==>  70\n",
      "current value ==>  80\n"
     ]
    }
   ],
   "source": [
    "#iterator\n",
    "#행렬 모든 원소에 접근하게 하는 기능\n",
    "\n",
    "A = np.array([[10, 20, 30, 40], [50, 60, 70, 80]])\n",
    "\n",
    "print(A, '\\n')\n",
    "print(\"A.shape ==\", A.shape, '\\n')\n",
    "\n",
    "#행렬 A의 iterator 생성\n",
    "\n",
    "it = np.nditer(A, flags = ['multi_index'], op_flags = ['readwrite']) \n",
    "\n",
    "while not it.finished: #이터레이터가 finished 위치일 때까지 반복\n",
    "               idx = it.multi_index\n",
    "               print(\"current value ==> \", A[idx]) #10부터 80까지 차례대로 출력\n",
    "               it.iternext() #이터레이터 다음 위치로 넘기기"
   ]
  }
 ],
 "metadata": {
  "kernelspec": {
   "display_name": "Python 3",
   "language": "python",
   "name": "python3"
  },
  "language_info": {
   "codemirror_mode": {
    "name": "ipython",
    "version": 3
   },
   "file_extension": ".py",
   "mimetype": "text/x-python",
   "name": "python",
   "nbconvert_exporter": "python",
   "pygments_lexer": "ipython3",
   "version": "3.7.6"
  }
 },
 "nbformat": 4,
 "nbformat_minor": 4
}
