{
 "cells": [
  {
   "cell_type": "markdown",
   "metadata": {},
   "source": [
    "# 머신러닝의 종류\n",
    "\n",
    "## 교사 학습(지도 학습)\n",
    "- 데이터와 함께 정답이 주어지는 학습법\n",
    "- 미지의 데이터를 예측할 수 있음\n",
    "\n",
    "## 비교사 학습(비지도 학습)\n",
    "- 정답 데이터가 주어지지 않은 학습법\n",
    "- 미지의 데이터에서 규칙성을 발견하는 학습법\n",
    "\n",
    "## 강화 학습\n",
    "- 행동을 기반으로 정답인지 알려주는 학습\n",
    "- 데이터에서 최적의 답을 찾아내는 학습"
   ]
  },
  {
   "cell_type": "markdown",
   "metadata": {},
   "source": [
    "# 머신러닝의 기본 과정\n",
    "\n",
    "- 목표를 설정\n",
    "- 데이터를 수집\n",
    "- 데이터를 가공\n",
    "- 데이터를 학습\n",
    "- 모델 평가(정답률이 잘 나왔는지 여부) 잘나오지 않았다면 -> 데이터를 학습, 잘 나왔다면 -> 업무에 활용"
   ]
  },
  {
   "cell_type": "markdown",
   "metadata": {},
   "source": [
    "# 데이터 수집\n",
    "\n",
    "- SNS와 블로그\n",
    "- 쇼핑 상품 데이터\n",
    "- 금융정보\n",
    "- 오픈 데이터\n",
    "- 이미지, 동영상, 음성데이터\n",
    "- 사전 데이터\n",
    "- 머신러닝 전용 데이터\n",
    "\n",
    "# 데이터 저장하는 형식\n",
    "\n",
    "- CSV\n",
    "- INI\n",
    "- XML, JSON, YAML\n",
    "\n",
    "\n",
    "\n"
   ]
  },
  {
   "cell_type": "markdown",
   "metadata": {},
   "source": [
    "# scikit-learn(사이킷-런)\n",
    "\n",
    "- 대표적인 파이썬 머신러닝 프레임워크\n",
    "- 다양한 머신러닝 알고리즘을 제공\n",
    "- 다양한 샘플 데이터를 제공\n",
    "- 머신러닝 결과를 검증하는 기능을 제공\n",
    "- BSD 라이선스라서 무료로 사용 및 배포가 가능\n",
    "- 사이킷-런 웹사이트(https://scikit-learn.org/)\n",
    "- 알고리즘 치트 시트(https://scikit-learn.org/stable/tutorial/machine_learning_map/)"
   ]
  },
  {
   "cell_type": "markdown",
   "metadata": {},
   "source": [
    "# 목표 결정\n",
    "\n",
    "- 입력(x, y)과 결과(x, y)의 모든 패턴을 학습시킵니다.\n",
    "- 다시 입력(x, y)의 모든 패턴을 주고 제대로 된 결과를 내는지 평가를 합니다.\n",
    "\n",
    "# 알고리즘을 선택\n",
    "\n",
    "- 사이킷-런 알고리즘을 선택\n",
    "- LinearSVC 알고리즘을 선택"
   ]
  },
  {
   "cell_type": "code",
   "execution_count": 7,
   "metadata": {},
   "outputs": [
    {
     "name": "stdout",
     "output_type": "stream",
     "text": [
      "[[0, 0], [1, 0], [0, 1], [1, 1]] 의 예측 결과 :  [0 0 0 1]\n",
      "정답률 =  1.0\n"
     ]
    }
   ],
   "source": [
    "# pip install sklearn\n",
    "from sklearn.svm import LinearSVC # LinearSCV 알고리즘을 사용하기 위한 패키지\n",
    "from sklearn.metrics import accuracy_score # 테스트 데이터 결과를 평가하기 위한 패키지\n",
    "\n",
    "# 학습 전용 데이터와 결과를 준비합니다. (교사 학습 알고리즘을 사용하고 있으므로 학습 전용 데이터와 결과 데이터가 함께 있어야 합니다.)\n",
    "# x, y\n",
    "learn_data = [[0,0], [1,0], [0,1], [1,1]]\n",
    "# x and y\n",
    "learn_label = [0, 0, 0, 1]\n",
    "\n",
    "# 사이킷런 알고리즘을 지정합니다. (LinearSVC)\n",
    "# LinearSVC 전용 객체를 생성합니다.\n",
    "clf = LinearSVC() # 생성자를 호출해 객체를 생성합니다.\n",
    "\n",
    "# 학습 전용 데이터와 결과를 학습합니다.\n",
    "# fit() 메서드를 사용해 학습 데이터 배열과 결과 데이터 배열을 매개변수로 지정합니다.\n",
    "clf.fit(learn_data, learn_label)\n",
    "\n",
    "# 테스트 데이터로 예측합니다.\n",
    "# predict() 메서드를 사용해 예측합니다. predict()는 테스트 데이터를 매개변수로 전달하면 예측 결과를 반환합니다.\n",
    "test_data = [[0,0], [1,0], [0,1], [1,1]]\n",
    "test_label = clf.predict(test_data)\n",
    "\n",
    "# 예측 결과를 평가합니다.\n",
    "# 정답률을 계산합니다. 정답률 계산에는 accuracy_score() 메서드를 사용합니다.\n",
    "# accuracy_score() 메서드는 정답과 예측 결과를 매개변수로 지정하면 정답률을 반환합니다.\n",
    "print(test_data, \"의 예측 결과 : \", test_label)\n",
    "print(\"정답률 = \", accuracy_score([0, 0, 0, 1], test_label))\n",
    "\n"
   ]
  },
  {
   "cell_type": "code",
   "execution_count": null,
   "metadata": {},
   "outputs": [],
   "source": []
  }
 ],
 "metadata": {
  "kernelspec": {
   "display_name": "Python 3",
   "language": "python",
   "name": "python3"
  },
  "language_info": {
   "codemirror_mode": {
    "name": "ipython",
    "version": 3
   },
   "file_extension": ".py",
   "mimetype": "text/x-python",
   "name": "python",
   "nbconvert_exporter": "python",
   "pygments_lexer": "ipython3",
   "version": "3.7.6"
  }
 },
 "nbformat": 4,
 "nbformat_minor": 2
}
