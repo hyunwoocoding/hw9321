{
 "cells": [
  {
   "cell_type": "markdown",
   "metadata": {},
   "source": [
    "#선택 정렬 반복 알고리즘을 이용하여 내림차순 큰 정수가 1등인 석차를 계산하는 프로그램을 작성"
   ]
  },
  {
   "cell_type": "code",
   "execution_count": 2,
   "metadata": {},
   "outputs": [
    {
     "name": "stdout",
     "output_type": "stream",
     "text": [
      "[100, 95, 94, 85, 15]\n",
      "100점은 1등입니다.\n",
      "95점은 2등입니다.\n",
      "94점은 3등입니다.\n",
      "85점은 4등입니다.\n",
      "15점은 5등입니다.\n",
      "100점은 1등입니다.\n",
      " 95점은 2등입니다.\n",
      " 94점은 3등입니다.\n",
      " 85점은 4등입니다.\n",
      " 15점은 5등입니다.\n",
      "[1, 2, 3, 4, 5]\n"
     ]
    }
   ],
   "source": [
    "score = [15, 95, 94, 100, 85]\n",
    "rank = [1,1,1,1,1]\n",
    "\n",
    "# 내 답\n",
    "score.sort(reverse=True)\n",
    "print(score)\n",
    "\n",
    "for i in range(len(score)):\n",
    "    print(\"%d점은 %d등입니다.\" % (score[i], i+1))\n",
    "'''\n",
    "15점은 5등입니다.\n",
    "95점은 2등입니다.\n",
    "94점은 3등입니다.\n",
    "100점은 1등입니다.r\n",
    "85점은 4등입니다.\n",
    "'''\n",
    "\n",
    "# 쌤 답\n",
    "for i in range(len(score)-1):\n",
    "    for j in range(i+1, len(score)):\n",
    "        #i번째 점수가 크면 j번째 석차를 1증가시키고, j번째 점수가 크면 i번째 석차를 1증가시킵니다.\n",
    "        if score[i] > score[j]:\n",
    "            rank[j] += 1\n",
    "        elif score[i] < score[j]:\n",
    "            rank[i] += 1\n",
    "            \n",
    "for i in range(len(score)):\n",
    "    print('{0:3d}점은 {1}등입니다.'.format(score[i], rank[i]))\n",
    "print(rank)\n",
    "\n",
    "\n"
   ]
  },
  {
   "cell_type": "markdown",
   "metadata": {},
   "source": [
    "#n개의 데이터를 입력받아서 최대값과 최소값을 제외한 나머지 데이터의 표준편차를 계산하는 프로그램을 작성"
   ]
  },
  {
   "cell_type": "code",
   "execution_count": 3,
   "metadata": {},
   "outputs": [
    {
     "name": "stdout",
     "output_type": "stream",
     "text": [
      "WARNING:tensorflow:From C:\\Hyunwoo\\anaconda\\envs\\bigdata\\lib\\site-packages\\tensorflow_core\\python\\compat\\v2_compat.py:68: disable_resource_variables (from tensorflow.python.ops.variable_scope) is deprecated and will be removed in a future version.\n",
      "Instructions for updating:\n",
      "non-resource variables are not supported in the long term\n",
      "표준편차를 계산할 데이터의 개수를 입력하세요. : 5\n",
      "데이터를 입력하십시오: 1\n",
      "데이터를 입력하십시오: 2\n",
      "데이터를 입력하십시오: 3\n",
      "데이터를 입력하십시오: 4\n",
      "데이터를 입력하십시오: 5\n",
      "[4.0, 3.0, 2.0]\n",
      "3.0\n",
      "tf.sqrt(avr) : 1.7320507764816284\n"
     ]
    }
   ],
   "source": [
    "import tensorflow.compat.v1 as tf #텐서플로 버전1을 사용하겠다; 현재는 2버전까지 나와있음\n",
    "tf.disable_v2_behavior() #텐서플로 버전2를 사용하지 않겠다.\n",
    "\n",
    "##표준편차를 계산할 데이터의 개수를 입력하고 입력받은 개수만큼 데이터를 입력 받습니다.\n",
    "n = int(input('표준편차를 계산할 데이터의 개수를 입력하세요. : '))\n",
    "data = []\n",
    "for i in range(n):\n",
    "    a = float(input('데이터를 입력하십시오: '))\n",
    "    data.append(a)\n",
    "#print(data)\n",
    "\n",
    "\n",
    "#입력받은 데이터를 오름차순 정렬합니다. -> 0번째 데이터가 최소값, 마지막 데이터가 최대값\n",
    "data.sort(reverse=True)\n",
    "del(data[0])\n",
    "del(data[len(data)-1])\n",
    "print(data)\n",
    "\n",
    "\n",
    "#최대값, 최소값을 제외한 나머지 데이터의 평균을 계산 -> 분산\n",
    "sess = tf.Session()\n",
    "sum = 0\n",
    "for i in range(len(data)):\n",
    "    sum +=  data[i]\n",
    "\n",
    "avr = sum//len(data)\n",
    "print(avr)\n",
    "\n",
    "#분산의 루트를 씌여주면 표준편차가 됩니다.\\\n",
    "avr = tf.Variable(avr)\n",
    "sess.run(tf.global_variables_initializer())\n",
    "#print(type(avr))\n",
    "\n",
    "result = tf.sqrt(avr) #제곱근\n",
    "print('tf.sqrt(avr) : {}'.format(sess.run(result)))\n",
    "\n"
   ]
  },
  {
   "cell_type": "code",
   "execution_count": 4,
   "metadata": {},
   "outputs": [
    {
     "name": "stdout",
     "output_type": "stream",
     "text": [
      "표준편차를 계산할 데이터의 개수를 입력하세요. : 5\n",
      "1번째 데이터 : 1\n",
      "2번째 데이터 : 2\n",
      "3번째 데이터 : 3\n",
      "4번째 데이터 : 4\n",
      "5번째 데이터 : 5\n",
      "[1, 2, 3, 4, 5]\n",
      "[1, 2, 3, 4, 5]\n",
      "3.0\n",
      "[1, 2, 3, 4, 5]에서 최대값 5, 최소값1(을)를 제외한 데이터의 분산은 0.6667이고 표준편차는 0.8165입니다.\n"
     ]
    }
   ],
   "source": [
    "import tensorflow.compat.v1 as tf #텐서플로 버전1을 사용하겠다; 현재는 2버전까지 나와있음\n",
    "tf.disable_v2_behavior() #텐서플로 버전2를 사용하지 않겠다.\n",
    "\n",
    "##표준편차를 계산할 데이터의 개수를 입력하고 입력받은 개수만큼 데이터를 입력 받습니다.\n",
    "n = int(input('표준편차를 계산할 데이터의 개수를 입력하세요. : '))\n",
    "score = [0 for i in range(n)] #리스트가 n의 값만큼 개수 생성\n",
    "\n",
    "for i in range(n):\n",
    "    data = int(input(\"{}번째 데이터 : \".format(i+1)))\n",
    "    score[i] = data\n",
    "print(score)\n",
    "    \n",
    "\n",
    "#입력받은 데이터를 오름차순 정렬합니다. -> 0번째 데이터가 최소값, 마지막 데이터가 최대값\n",
    "for i in range(len(score)-1):\n",
    "    for j in range(i+1, len(score)):\n",
    "        if score[i] > score[j]:\n",
    "            score[i], score[j] = score[j], score[i]\n",
    "print(score)\n",
    "\n",
    "#최대값, 최소값을 제외한 나머지 데이터의 평균을 계산 -> 분산\n",
    "#첫번째 방법\n",
    "total = 0\n",
    "for i in range(1, len(score)-1):\n",
    "    total += score[i]\n",
    "mean = total / (n-2)\n",
    "print(mean)\n",
    "\n",
    "#두번째 방법\n",
    "import math\n",
    "total = 0.0\n",
    "for i in range(1, len(score)-1):\n",
    "    total += (score[i] - mean)**2 # **은 제곱\n",
    "var = total / (n-2)\n",
    "\n",
    "#분산의 루트를 씌여주면 표준편차가 됩니다.\n",
    "std = math.sqrt(var)\n",
    "print(\"{0}에서 최대값 {1}, 최소값{2}(을)를 제외한 데이터의 분산은 {3:6.4f}이고 표준편차는 {4:6.4f}입니다.\"\n",
    "      .format(score, score[n-1], score[0], var, std)) #6.4f는 총 6자리를 만들어놓고 4자리는 소수자리로\n"
   ]
  },
  {
   "cell_type": "code",
   "execution_count": 9,
   "metadata": {},
   "outputs": [
    {
     "name": "stdout",
     "output_type": "stream",
     "text": [
      "평균:58.0, 분산:776.0, 표준편차:27.85677655436824\n"
     ]
    }
   ],
   "source": [
    "#Numpy는 행렬이나 일반적으로 대규모 다차원 배열을 쉽게 처리할 수 잇도록 지원하는 파이썬 라이브러리입니다.\n",
    "#데이터 구조 외에도 수치 계산을 위해 효율적으로 구현된 기능을 제공합니다.\n",
    "\n",
    "import numpy as np\n",
    "score = [10, 50, 60, 80, 90]\n",
    "print(\"평균:{}, 분산:{}, 표준편차:{}\".format(np.mean(score), np.var(score), np.std(score)))\n",
    "\n"
   ]
  }
 ],
 "metadata": {
  "kernelspec": {
   "display_name": "Python 3",
   "language": "python",
   "name": "python3"
  },
  "language_info": {
   "codemirror_mode": {
    "name": "ipython",
    "version": 3
   },
   "file_extension": ".py",
   "mimetype": "text/x-python",
   "name": "python",
   "nbconvert_exporter": "python",
   "pygments_lexer": "ipython3",
   "version": "3.7.6"
  }
 },
 "nbformat": 4,
 "nbformat_minor": 2
}
