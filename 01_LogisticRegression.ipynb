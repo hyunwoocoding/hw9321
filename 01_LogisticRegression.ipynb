{
 "cells": [
  {
   "cell_type": "markdown",
   "metadata": {},
   "source": [
    "# Logistic Regression 알고리즘은 Training Data 특성과 분포를 나타내는 최적의 직선을 찾고(Linear Regression), 이 직선을 기준으로 데이터를 위아래로 뷴류해주는 알고리즘\n",
    "\n",
    "## 딥러닝에서 기본 component로 사용"
   ]
  },
  {
   "cell_type": "markdown",
   "metadata": {},
   "source": [
    "## 출력 값 y가 0 또는 1만을 가져야만 하는 분류(classification) 시스템에서, 함수 값으로 0-1 사이의 값을 가지는 sigmoid 함수를 사용할 수 있음\n",
    "\n",
    "## 즉, linear regression  출력 Wx + b 가 어떤 값을 갖더라도, 출력 함수로 sigmoid를 사용해서 1) sigmoid 계산 값이 0.5보다 크면 결과로 1이 나올 확률이 높다는 것이기 때문에 출력 값 y는 1로 정의하고 2) 1) sigmoid 계산 값이 0.5보다 작으면 결과로 0이 나올 확률이 높다는 것이기 때문에 출력 값 y는 0로 정의한다\n",
    "\n",
    "## sigmoid 함수의 실제 계산 값 sigmoid(z)는 결과가 나타날 확률을 의미함"
   ]
  },
  {
   "cell_type": "markdown",
   "metadata": {},
   "source": [
    "## classification에서는 손실 함수가 다름\n",
    "\n",
    "## 최종 출력 값 y가 sigmoid 함수에 의해 0 또는 1만으로 도출되기 때문에 손실 함수가 다를 수 밖에 없음\n"
   ]
  },
  {
   "cell_type": "code",
   "execution_count": 18,
   "metadata": {},
   "outputs": [
    {
     "name": "stdout",
     "output_type": "stream",
     "text": [
      "x_data.shape =  (10, 1) , t_data.sahpe =  (10, 1)\n"
     ]
    }
   ],
   "source": [
    "# simple logistic regression(classification) - example\n",
    "\n",
    "import numpy as np\n",
    "\n",
    "# 1. 학습 데이터\n",
    "x_data = np.array([2, 4, 6, 8, 10, 12, 14, 16, 18, 20]).reshape(10, 1)\n",
    "t_data = np.array([0, 0, 0, 0, 0, 0, 1, 1, 1, 1]).reshape(10, 1)\n",
    "\n",
    "print(\"x_data.shape = \", x_data.shape, \", t_data.sahpe = \", t_data.shape)"
   ]
  },
  {
   "cell_type": "code",
   "execution_count": 30,
   "metadata": {},
   "outputs": [
    {
     "name": "stdout",
     "output_type": "stream",
     "text": [
      "W =  [[0.28856658]] , W.shape = (1, 1) , b = [0.7140796] , b.shape =  (1,)\n"
     ]
    }
   ],
   "source": [
    "# 2. 회귀선 정의 / 변수별 랜덤값 부여\n",
    "W = np.random.rand(1, 1)\n",
    "b = np.random.rand(1)\n",
    "\n",
    "print(\"W = \", W, \", W.shape =\", W.shape, \", b =\", b,\", b.shape = \", b.shape)"
   ]
  },
  {
   "cell_type": "code",
   "execution_count": null,
   "metadata": {},
   "outputs": [],
   "source": [
    "# 3. 손실함수 E(W, b) 정의\n",
    "# 최종출력은 y = sigmoid(Wx+b)이며, 손실 함수는 cross-entropy로 나타냄\n",
    "\n",
    "def sigmoid(x):\n",
    "    return 1 / (1 + np.exp(-x))\n",
    "\n",
    "def loss_func(x, t):\n",
    "    \n",
    "    delta = 1e-7 # log 무한대 발산 방지 / y가 0이나 1인 경우 무한대가 되어 버리기 때문에 이를 방지\n",
    "    \n",
    "    z = np.dot(x, W) + b\n",
    "    y = sigmoid(z)\n",
    "    \n",
    "    #cross-entropy\n",
    "    \n",
    "    return -np.sum(t*np.log(y + delta) + (1-t)*np.log((1 - y) + delta))"
   ]
  },
  {
   "cell_type": "code",
   "execution_count": null,
   "metadata": {},
   "outputs": [],
   "source": [
    "# 4. 수치미분 numerical_derivative 및 utility 함수 정의\n",
    "\n",
    "def numerical_derivative(f, x): #x는 모든 변수를 포함하고 있는 numpy객체(배열, 행렬...)\n",
    "    delta_x = 1e-4 #0.0001\n",
    "    grad = np.zeros_like(x)\n",
    "\n",
    "    it = np.nditer(x, flags = ['multi_index'], op_flags=['readwrite']) #모든 입력변수에 대해 편미분하기 위해 iterator 사용\n",
    "    \n",
    "    while not it.finished: \n",
    "        idx = it.multi_index\n",
    "        \n",
    "        tmp_val = x[idx] \n",
    "        x[idx] = float(tmp_val) + delta_x\n",
    "        fx1 = f(x) #f(x+delta_x)\n",
    "        \n",
    "        x[idx] = tmp_val - delta_x\n",
    "        fx2 = f(x)\n",
    "        grad[idx] = (fx1 - fx2) / (2*delta_x)\n",
    "        \n",
    "        x[idx] = tmp_val\n",
    "        it.iternext()\n",
    "    \n",
    "    return grad\n",
    "\n",
    "def error_val(x, t):\n",
    "    delta = 1e-7 #log 무한대 발산 방지\n",
    "    \n",
    "    z = np.dot(x,W) + b\n",
    "    y = sigmoid(z)\n",
    "    \n",
    "    #cross-entropy\n",
    "    return -np.sum(t*np.log(y + delta) + (1-t)*np.log((1 - y) + delta))\n",
    "\n",
    "def predict(x):\n",
    "    \n",
    "    z = np.dot(x,W) + b\n",
    "    y = sigmoid(z)\n",
    "    \n",
    "    if y >= 0.5:\n",
    "        result = 1 #True\n",
    "    else:\n",
    "        result = 0 #False\n",
    "    \n",
    "    return y, result"
   ]
  },
  {
   "cell_type": "code",
   "execution_count": 35,
   "metadata": {},
   "outputs": [
    {
     "name": "stdout",
     "output_type": "stream",
     "text": [
      "initial error value = 0.21321849715061209 initial W = [[2.20191028]] \n",
      " , b = [-28.53735537]\n",
      "step = 0 error value = 0.21321594754557846 W = [[2.20191877]] , b =  [-28.53751493]\n",
      "step = 10000 error value = 0.1904582143893488 W = [[2.31754161]] , b =  [-30.04213644]\n",
      "step = 20000 error value = 0.17209804539624768 W = [[2.42141908]] , b =  [-31.39363323]\n",
      "step = 30000 error value = 0.15695800105382196 W = [[2.51575923]] , b =  [-32.62091976]\n",
      "step = 40000 error value = 0.14425261054378072 W = [[2.6021889]] , b =  [-33.74520772]\n",
      "step = 50000 error value = 0.13343550919491973 W = [[2.68194257]] , b =  [-34.78258708]\n",
      "step = 60000 error value = 0.12411382418426127 W = [[2.75598189]] , b =  [-35.74558757]\n",
      "step = 70000 error value = 0.11599729127358764 W = [[2.82507199]] , b =  [-36.6441762]\n",
      "step = 80000 error value = 0.10886654700111599 W = [[2.88983246]] , b =  [-37.48642226]\n",
      "step = 90000 error value = 0.10255259005194856 W = [[2.95077252]] , b =  [-38.27895662]\n",
      "step = 100000 error value = 0.09692304045963647 W = [[3.00831606]] , b =  [-39.02729808]\n"
     ]
    }
   ],
   "source": [
    "# 5. 학습율(learning rate) 초기화 및 손실함수가 최소가 될 때까지 W, b 업데이트\n",
    "\n",
    "learning_rate = 1e-2 #발산하는 경우, 1e-3 ~ 1e-6 등으로 바꿔 실행\n",
    "\n",
    "f = lambda x : loss_func(x_data, t_data) # f(x) = loss_func(x_data, t_data)\n",
    "\n",
    "print(\"initial error value =\", error_val(x_data, t_data), \"initial W =\", W, \"\\n\", \", b =\", b)\n",
    "\n",
    "for step in range(100001):\n",
    "    W -= learning_rate * numerical_derivative(f, W)\n",
    "    b -= learning_rate * numerical_derivative(f, b)\n",
    "    \n",
    "    if (step % 10000 == 0):\n",
    "        print(\"step =\", step, \"error value =\", error_val(x_data, t_data), \"W =\", W, \", b = \", b)"
   ]
  },
  {
   "cell_type": "code",
   "execution_count": 32,
   "metadata": {},
   "outputs": [
    {
     "name": "stdout",
     "output_type": "stream",
     "text": [
      "[[1.11982369e-05]] 0\n",
      "[[0.99128774]] 1\n"
     ]
    }
   ],
   "source": [
    "#3시간 입력 미래값 예측\n",
    "\n",
    "(real_val, logical_val) = predict(3)\n",
    "print(real_val, logical_val)\n",
    "\n",
    "#17시간 입력 미래값 예측\n",
    "\n",
    "(real_val, logical_val) = predict(17)\n",
    "print(real_val, logical_val)"
   ]
  }
 ],
 "metadata": {
  "kernelspec": {
   "display_name": "Python 3",
   "language": "python",
   "name": "python3"
  },
  "language_info": {
   "codemirror_mode": {
    "name": "ipython",
    "version": 3
   },
   "file_extension": ".py",
   "mimetype": "text/x-python",
   "name": "python",
   "nbconvert_exporter": "python",
   "pygments_lexer": "ipython3",
   "version": "3.7.6"
  }
 },
 "nbformat": 4,
 "nbformat_minor": 4
}
