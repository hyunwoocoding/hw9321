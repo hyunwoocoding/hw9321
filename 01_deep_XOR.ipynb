{
 "cells": [
  {
   "cell_type": "code",
   "execution_count": 23,
   "metadata": {},
   "outputs": [],
   "source": [
    "# 1. external function(sigmoid, numerical_derivative)\n",
    "\n",
    "import numpy as np\n",
    "\n",
    "# sigmoid 함수\n",
    "\n",
    "def sigmoid(x):\n",
    "    return 1 / (1 + np.exp(-x))\n",
    "\n",
    "# 수치미분 함수\n",
    "\n",
    "def numerical_derivative(f, x): #x는 모든 변수를 포함하고 있는 numpy객체(배열, 행렬...)\n",
    "    delta_x = 1e-4 #0.0001\n",
    "    grad = np.zeros_like(x)\n",
    "\n",
    "    it = np.nditer(x, flags = ['multi_index'], op_flags=['readwrite']) #모든 입력변수에 대해 편미분하기 위해 iterator 사용\n",
    "    \n",
    "    while not it.finished: \n",
    "        idx = it.multi_index\n",
    "        \n",
    "        tmp_val = x[idx] \n",
    "        x[idx] = float(tmp_val) + delta_x\n",
    "        fx1 = f(x) #f(x+delta_x)\n",
    "        \n",
    "        x[idx] = tmp_val - delta_x\n",
    "        fx2 = f(x)\n",
    "        grad[idx] = (fx1 - fx2) / (2*delta_x)\n",
    "        \n",
    "        x[idx] = tmp_val\n",
    "        it.iternext()\n",
    "            \n",
    "    return grad\n"
   ]
  },
  {
   "cell_type": "code",
   "execution_count": 30,
   "metadata": {},
   "outputs": [],
   "source": [
    "# 2. LogicGate Class (__Init__, feed_forward, loss_val)\n",
    "\n",
    "class LogicGate:\n",
    "    def __init__(self, gate__name, xdata, tdata):\n",
    "        self.name = gate__name\n",
    "\n",
    "        #입력 데이터, 정답 데이터 초기화\n",
    "        self.__xdata = xdata.reshape(4, 2) # 4개의 입력데이터 x1, x2 대하여 batch 처리 행렬\n",
    "        self.__tdata = tdata.reshape(4, 1) # 4개의 입력데이터 x1, x2에 대한 각각의 계산 값 행렬\n",
    "\n",
    "        #2층 hidden layer unit : 6개 가정, 가중치 w2, 바이어스 b2 초기화\n",
    "        self.__W2 = np.random.rand(2, 6) #weight, 2x6 matrix\n",
    "        self.__b2 = np.random.rand(6)\n",
    "\n",
    "        #3층 output layer unit: 1개, 가중치 w3, 바이어스 b3 초기화\n",
    "        self.__W3 = np.random.rand(6, 1)\n",
    "        self.__b3 = np.random.rand(1)\n",
    "\n",
    "        # 학습을 learning rate 초기화\n",
    "        self.__learning_rate = 1e-2\n",
    "\n",
    "        print(self.name + \" object is created\")\n",
    "    \n",
    "    def feed_forward(self):  #feed forward를 통하여 손실함수(cross-entropy) 값 계산\n",
    "        \n",
    "        delta = 1e-7 # log 무한대 발산 방지\n",
    "        z2 = np.dot(self.__xdata, self.__W2) + self.__b2  #은닉층의 선형회귀 값\n",
    "        a2 = sigmoid(z2)  # 은닉층의 출력\n",
    "        \n",
    "        z3 = np.dot(a2, self.__W3) + self.__b3 # 출력층의 선형회귀 값\n",
    "        y = a3 = sigmoid(z3) # 출력층의 출력\n",
    "        \n",
    "        #cross-entropy\n",
    "        return -np.sum( self.__tdata*np.log(y + delta) + (1-self.__tdata)*np.log((1-y)+delta))\n",
    "   \n",
    "    def loss_val(self): #외부 출력을 위한 손실함수(cross-entropy) 값 계산\n",
    "        \n",
    "        delta = 1e-7 # log 무한대 발산 방지\n",
    "        \n",
    "        z2 = np.dot(self.__xdata, self.__W2) + self.__b2  #은닉층의 선형회귀 값\n",
    "        a2 = sigmoid(z2)  # 은닉층의 출력\n",
    "        \n",
    "        z3 = np.dot(a2, self.__W3) + self.__b3 # 출력층의 선형회귀 값\n",
    "        y = a3 = sigmoid(z3) # 출력층의 출력\n",
    "        \n",
    "        #cross-entropy\n",
    "        return -np.sum( self.__tdata*np.log(y + delta) + (1-self.__tdata)*np.log((1-y)+delta))\n",
    "\n",
    "    #수치미분을 이용하여 손실함수가 최소가 될 때까지 학습하는 함수\n",
    "    \n",
    "    def train(self):\n",
    "        \n",
    "        f = lambda x : self.feed_forward()\n",
    "        print(\"initial loss value = \", self.loss_val())\n",
    "        \n",
    "        for step in range(10001):\n",
    "            self.__W2 -= self.__learning_rate * numerical_derivative(f, self.__W2)\n",
    "            self.__b2 -= self.__learning_rate * numerical_derivative(f, self.__b2)\n",
    "            self.__W3 -= self.__learning_rate * numerical_derivative(f, self.__W3)\n",
    "            self.__b3 -= self.__learning_rate * numerical_derivative(f, self.__b3)\n",
    "            \n",
    "            if (step % 400 == 0):\n",
    "                print(\"step = \", step, \", loss value = \", self.loss_val())\n",
    "                \n",
    "    #query, 즉 미래값 예측 함수\n",
    "    def predict(self, xdata):\n",
    "        \n",
    "        z2 = np.dot(xdata, self.__W2) + self.__b2 #은닉층의 선형회귀 값\n",
    "        a2 = sigmoid(z2) # 은닉층의 출력\n",
    "        \n",
    "        z3 = np.dot(a2, self.__W3) + self.__b3 # 출력층의 선형회귀 값\n",
    "        y = a3 = sigmoid(z3) #출력층의 출력\n",
    "        \n",
    "        if y > 0.5:\n",
    "            result = 1 #True\n",
    "        else:\n",
    "            result = 0 #False\n",
    "        \n",
    "        return y, result\n",
    "        "
   ]
  },
  {
   "cell_type": "code",
   "execution_count": 32,
   "metadata": {},
   "outputs": [
    {
     "name": "stdout",
     "output_type": "stream",
     "text": [
      "AND object is created\n",
      "initial loss value =  10.330512470362411\n",
      "step =  0 , loss value =  9.98392146871293\n",
      "step =  400 , loss value =  2.211916998307379\n",
      "step =  800 , loss value =  2.119409879057746\n",
      "step =  1200 , loss value =  1.9742533253296117\n",
      "step =  1600 , loss value =  1.7249297998223008\n",
      "step =  2000 , loss value =  1.3873023888870264\n",
      "step =  2400 , loss value =  1.0582092961966647\n",
      "step =  2800 , loss value =  0.7843550327891918\n",
      "step =  3200 , loss value =  0.5788182228396406\n",
      "step =  3600 , loss value =  0.43426317542137055\n",
      "step =  4000 , loss value =  0.33447097368827394\n",
      "step =  4400 , loss value =  0.26486052671946864\n",
      "step =  4800 , loss value =  0.2151793705601941\n",
      "step =  5200 , loss value =  0.17877275619121846\n",
      "step =  5600 , loss value =  0.15139347271552983\n",
      "step =  6000 , loss value =  0.1303062640173091\n",
      "step =  6400 , loss value =  0.11371490778875858\n",
      "step =  6800 , loss value =  0.1004122721087402\n",
      "step =  7200 , loss value =  0.08956776531203309\n",
      "step =  7600 , loss value =  0.0805967923048429\n",
      "step =  8000 , loss value =  0.07307910731482478\n",
      "step =  8400 , loss value =  0.06670667517074344\n",
      "step =  8800 , loss value =  0.06124965930184695\n",
      "step =  9200 , loss value =  0.05653376857151726\n",
      "step =  9600 , loss value =  0.052424868198946095\n",
      "step =  10000 , loss value =  0.048818329537940755\n"
     ]
    }
   ],
   "source": [
    "#AND Gate 객체 생성 및 training\n",
    "\n",
    "xdata = np.array([ [0, 0], [0, 1], [1, 0], [1, 1] ])\n",
    "tdata = np.array([ 0, 0, 0, 1])\n",
    "\n",
    "and_obj = LogicGate(\"AND\", xdata, tdata)\n",
    "and_obj.train()\n"
   ]
  },
  {
   "cell_type": "code",
   "execution_count": 27,
   "metadata": {},
   "outputs": [
    {
     "name": "stdout",
     "output_type": "stream",
     "text": [
      "(array([7.09927471e-18]), 0)\n",
      "(array([0.00178238]), 0)\n",
      "(array([0.00178238]), 0)\n",
      "(array([0.9868196]), 1)\n"
     ]
    }
   ],
   "source": [
    "#AND gate prediction\n",
    "\n",
    "test_data = np.array([[0,0], [0,1], [1,0], [1,1]])\n",
    "\n",
    "for data in test_data:\n",
    "    print(and_obj.predict(data))"
   ]
  },
  {
   "cell_type": "code",
   "execution_count": 33,
   "metadata": {},
   "outputs": [
    {
     "name": "stdout",
     "output_type": "stream",
     "text": [
      "OR object is created\n",
      "initial loss value =  2.7332207568921176\n",
      "step =  0 , loss value =  2.716608437393674\n",
      "step =  400 , loss value =  2.017150637232486\n",
      "step =  800 , loss value =  1.799994789606453\n",
      "step =  1200 , loss value =  1.4842372534957249\n",
      "step =  1600 , loss value =  1.1161449176068485\n",
      "step =  2000 , loss value =  0.7923412950172185\n",
      "step =  2400 , loss value =  0.5585843011250852\n",
      "step =  2800 , loss value =  0.4041381765343627\n",
      "step =  3200 , loss value =  0.3034782563674649\n",
      "step =  3600 , loss value =  0.23636832944332306\n",
      "step =  4000 , loss value =  0.19004072617648388\n",
      "step =  4400 , loss value =  0.15689196608948291\n",
      "step =  4800 , loss value =  0.13238109819219362\n",
      "step =  5200 , loss value =  0.11372780247636774\n",
      "step =  5600 , loss value =  0.09917504086424317\n",
      "step =  6000 , loss value =  0.08757612432424616\n",
      "step =  6400 , loss value =  0.0781596373119834\n",
      "step =  6800 , loss value =  0.07039204154397251\n",
      "step =  7200 , loss value =  0.0638949966110363\n",
      "step =  7600 , loss value =  0.05839414751563356\n",
      "step =  8000 , loss value =  0.053686521299399124\n",
      "step =  8400 , loss value =  0.04961923544355837\n",
      "step =  8800 , loss value =  0.04607526406286978\n",
      "step =  9200 , loss value =  0.04296371627608907\n",
      "step =  9600 , loss value =  0.04021306507011545\n",
      "step =  10000 , loss value =  0.03776634600120047\n"
     ]
    }
   ],
   "source": [
    "#OR Gate 객체 생성 및 training\n",
    "\n",
    "xdata = np.array([ [0, 0], [0, 1], [1, 0], [1, 1] ])\n",
    "tdata = np.array([ 0, 1, 1, 1])\n",
    "\n",
    "or_obj = LogicGate(\"OR\", xdata, tdata)\n",
    "or_obj.train()\n"
   ]
  },
  {
   "cell_type": "code",
   "execution_count": 34,
   "metadata": {},
   "outputs": [
    {
     "name": "stdout",
     "output_type": "stream",
     "text": [
      "(array([0.02158807]), 0)\n",
      "(array([0.99251764]), 1)\n",
      "(array([0.99211431]), 1)\n",
      "(array([0.99948532]), 1)\n"
     ]
    }
   ],
   "source": [
    "#OR gate prediction\n",
    "\n",
    "test_data = np.array([[0,0], [0,1], [1,0], [1,1]])\n",
    "\n",
    "for data in test_data:\n",
    "    print(or_obj.predict(data))"
   ]
  },
  {
   "cell_type": "code",
   "execution_count": null,
   "metadata": {},
   "outputs": [],
   "source": [
    "# NAND Gate 객체 생성 및 training\n",
    "\n",
    "xdata = np.array([ [0, 0], [0, 1], [1, 0], [1, 1] ])\n",
    "tdata = np.array([1, 1, 1, 0])\n",
    "\n",
    "nand_obj = LogicGate(\"NAND\", xdata, tdata)\n",
    "\n",
    "nand_obj.train()"
   ]
  },
  {
   "cell_type": "code",
   "execution_count": null,
   "metadata": {},
   "outputs": [],
   "source": [
    "# NAND Gate prediction\n",
    "\n",
    "test_data = np.array([ [0, 0], [0, 1], [1, 0], [1, 1] ])\n",
    "\n",
    "for data in test_data:\n",
    "    print(nand_obj.predict(data))"
   ]
  },
  {
   "cell_type": "code",
   "execution_count": 37,
   "metadata": {},
   "outputs": [
    {
     "name": "stdout",
     "output_type": "stream",
     "text": [
      "XOR object is created\n",
      "initial loss value =  7.098920374782523\n",
      "step =  0 , loss value =  6.938106295829626\n",
      "step =  400 , loss value =  2.765563533091853\n",
      "step =  800 , loss value =  2.7602625121080884\n",
      "step =  1200 , loss value =  2.754279553884655\n",
      "step =  1600 , loss value =  2.7470638721236527\n",
      "step =  2000 , loss value =  2.7379555708676415\n",
      "step =  2400 , loss value =  2.726116321886064\n",
      "step =  2800 , loss value =  2.7104588379313665\n",
      "step =  3200 , loss value =  2.689583022195402\n",
      "step =  3600 , loss value =  2.661743949814735\n",
      "step =  4000 , loss value =  2.624907973479538\n",
      "step =  4400 , loss value =  2.576993911754545\n",
      "step =  4800 , loss value =  2.5163896385672118\n",
      "step =  5200 , loss value =  2.442642046578754\n",
      "step =  5600 , loss value =  2.3568174147046372\n",
      "step =  6000 , loss value =  2.2609116767851942\n",
      "step =  6400 , loss value =  2.156383335951963\n",
      "step =  6800 , loss value =  2.04267130557649\n",
      "step =  7200 , loss value =  1.9165110642651992\n",
      "step =  7600 , loss value =  1.772781575412631\n",
      "step =  8000 , loss value =  1.6080190655470288\n",
      "step =  8400 , loss value =  1.4255726902707877\n",
      "step =  8800 , loss value =  1.2367794626095663\n",
      "step =  9200 , loss value =  1.0556489799822009\n",
      "step =  9600 , loss value =  0.8926302702649564\n",
      "step =  10000 , loss value =  0.7524890588989026\n"
     ]
    }
   ],
   "source": [
    "# XOR Gate 객체 생성\n",
    "\n",
    "xdata = np.array([ [0, 0], [0, 1], [1, 0], [1, 1] ])\n",
    "tdata = np.array([0, 1, 1, 0])\n",
    "\n",
    "\n",
    "xor_obj = LogicGate(\"XOR\", xdata, tdata)\n",
    "\n",
    "xor_obj.train()"
   ]
  },
  {
   "cell_type": "code",
   "execution_count": 36,
   "metadata": {},
   "outputs": [
    {
     "name": "stdout",
     "output_type": "stream",
     "text": [
      "(array([0.07061648]), 0)\n",
      "(array([0.85462985]), 1)\n",
      "(array([0.90451167]), 1)\n",
      "(array([0.16932362]), 0)\n"
     ]
    }
   ],
   "source": [
    "test_data = np.array([ [0, 0], [0, 1], [1, 0], [1, 1] ])\n",
    "\n",
    "for data in test_data:\n",
    "    print(xor_obj.predict(data))"
   ]
  }
 ],
 "metadata": {
  "kernelspec": {
   "display_name": "Python 3",
   "language": "python",
   "name": "python3"
  },
  "language_info": {
   "codemirror_mode": {
    "name": "ipython",
    "version": 3
   },
   "file_extension": ".py",
   "mimetype": "text/x-python",
   "name": "python",
   "nbconvert_exporter": "python",
   "pygments_lexer": "ipython3",
   "version": "3.7.6"
  }
 },
 "nbformat": 4,
 "nbformat_minor": 4
}
